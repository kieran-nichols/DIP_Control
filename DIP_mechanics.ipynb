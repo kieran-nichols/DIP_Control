{
 "cells": [
  {
   "cell_type": "markdown",
   "metadata": {},
   "source": [
    "# DIP_Mechanics\n",
    "# Mathematical modeling <a class=\"anchor\" id=\"mathematicalModel\"></a>\n",
    "\n",
    "Cartesian coordinates of the $leg_1$ and pole_{2} will be \n",
    "\\begin{equation}\n",
    "\\begin{bmatrix}\n",
    "q_1 \\\\ q_2 \n",
    "\\end{bmatrix}\n",
    "\\qquad \\text{and} \\qquad \n",
    "\\begin{bmatrix}\n",
    "q_1 + l \\sin(q_2) \\\\ l \\cos(q_2)] \n",
    "\\end{bmatrix}\n",
    "\\end{equation}\n",
    "where ($q_1$) is the horizontal position of the cart and ($q_2$) is the angle of the pendulum.\n",
    "\n",
    "The state, $x$ and state derivative, $\\dot{x}$ will give the dynamics of the system in first-order form and represnets the minimal generalized coordinates and its derivatives\n",
    "\\begin{equation}\n",
    " x =\n",
    " \\begin{bmatrix}\n",
    "  q_1 \\\\ q_2 \\\\ \\dot{q_1} \\\\ \\dot{q_2}\n",
    "\\end{bmatrix}\t\n",
    "\\qquad \\text{and} \\qquad \t\t\n",
    "\\dot{x} = f ( x , u ) =\n",
    "\\begin{bmatrix}\n",
    "\\dot{q_1} \\\\ \\dot{q_2} \\\\ \\ddot{q_1} \\\\ \\ddot{q_2}\n",
    "\\end{bmatrix}\n",
    "\\end{equation}\n",
    "\n",
    "Using Lagrangian method, \t\n",
    "$ L = T - V $\n",
    "where T is the kinetic energy and V the potential energy of the system. L summarizes the system dynamics.\n",
    "\n",
    "\\begin{align}\n",
    "& T = T_{cart} + T_{pole} \\\\\n",
    "&T_{cart} = \\frac{1}{2} m_1\\dot{ q_1}^2 \\\\\n",
    "&T_{pole} = \\frac{1}{2} m_2  [\\dot{(q_1 + l \\sin(q_2)}^2 +\\dot{(l\\cos(q_2)}^2] \\\\\\\\\n",
    "& V = V_{cart} + V_{pole} \\\\\n",
    "&V = 0 + m_2 g l \\cos(q_2) \\\\\n",
    "\\end{align}\n",
    "\n",
    "The potential energy of the cart is zero since it is not moving vertically and it has a height of 0.\n",
    "\n",
    "Thus $L = \\frac{1}{2} m_1 q_1^2 + \\frac{1}{2} m_2 [\\dot{(x + l \\sin(q_2)}^2 +\\dot{(l\\cos(q_2)}^2] - m_2 g l \\cos(q_2)$\n",
    "\n",
    "\n",
    "The generalized coordinates could be defined as \n",
    "\\begin{equation}\t\n",
    "X = \n",
    "\\begin{bmatrix}\n",
    "q_1  \\\\ q_2 \n",
    "\\end{bmatrix}\n",
    "\\end{equation}\n",
    "To yield the equations of motion for the cart/pendulum system, the Lagrangian equations will: \n",
    "\\begin{align}\n",
    "&\\frac{d}{dt}(\\frac{\\partial L}{\\partial{\\dot{q_1}}}) - \\frac{\\partial L}{\\partial{\\dot{q_1}}} = u \\\\\n",
    "&\\frac{d}{dt}(\\frac{\\partial L}{\\partial{\\dot{q_2}}}) - \\frac{\\partial L}{\\partial{\\dot{q_2}}} = 0\n",
    "\\end{align}\n",
    "\n",
    "Solving for the partial and time derivatives will yield\n",
    "\\begin{align}\n",
    "&(m_1 + m_2) \\ddot{q_1} + m_1 l \\ddot{q_2} \\cos(q_2) - m_2 l \\dot{q_2}^2 \\sin(q_2) = u \\\\\n",
    "&m_2 l \\ddot{q_1} \\cos(q_2) + m_2 l^2 \\ddot{q_2}  - m_2 g l \\sin(q_2) = 0 \n",
    "\\end{align}\n",
    "The detailed derivations of the derivatives can be found on this <a href=\\\"http://www.aoengr.com/Dynamics/PendulumOnCart.pdf\\\">webisite.</a> \n",
    "\n",
    "Rearranging the above equations and solving for the $\\ddot{q_1}$ and $\\ddot{q_2} $ terms respectively,\n",
    "\\begin{align}\n",
    "&\\ddot{q_1} = \\frac{ l m_2 \\sin(q_2) \\dot{q_2}^2 + u + m_{2} g \\cos(q_{2}) sin(q_2)} {m_1 + m_2\\sin^2(q_2)} \\\\\n",
    "&\\ddot{q_2} = \\frac{ l m_2 \\cos(q_2) \\sin(q_2^2) \\dot{q_2}^2 + u \\cos(q_2) + (m_1 + m_2) g \\sin(q_2)} {l (m_1 + m_2\\sin^2(q_2))}\n",
    "\\end{align}\n"
   ]
  },
  {
   "cell_type": "code",
   "execution_count": 162,
   "metadata": {},
   "outputs": [
    {
     "data": {
      "text/plain": [
       "qDDTwoLinkManipulator (generic function with 2 methods)"
      ]
     },
     "execution_count": 162,
     "metadata": {},
     "output_type": "execute_result"
    }
   ],
   "source": [
    "using JuMP, Ipopt\n",
    "\n",
    "function qDDTwoLinkManipulator(z,Time)\n",
    "    \n",
    "    m = Model(solver = IpoptSolver(print_level=0))\n",
    "    K = length(Time)                 #number of collocation points\n",
    "    # assign joint displacements / velocities from state variables\n",
    "    @variable(m, q[1:4,1:K])\n",
    "    @variable(m, D[1:2,1:2,1:K])\n",
    "    @variable(m, G[1:2,1:K])\n",
    "    @variable(m, V[1:2,1:K])\n",
    "    @variable(m, B[1:2,1:K])\n",
    "#     @variable(m, dummy[1:4])\n",
    "    @constraint(m, q[1:4,1] .== z)\n",
    "    @constraint(m, q[1:4,K] .== z)\n",
    "    \n",
    "    # model parameters\n",
    "    g = 9.81\n",
    "    m1 = 1\n",
    "    m2 = 1\n",
    "    L1 = 10\n",
    "    L2 = 10\n",
    "    Lc1 = L1/2\n",
    "    Lc2 = L2/2\n",
    "    I1 = (1/12)*m1*L1^2\n",
    "    I2 = (1/12)*m2*L2^2;\n",
    "    \n",
    "    for k in 1:K\n",
    "        # precalculate sin and cos terms\n",
    "        @NLexpression(m, s, sin(q[1,k]))\n",
    "        @NLexpression(m, c1, cos(q[1,k]))\n",
    "        @NLexpression(m, s2, sin(q[2,k]))\n",
    "        @NLexpression(m, c2, cos(q[2,k]))\n",
    "        @NLexpression(m, s12, sin(q[1,k]+q[2,k]))\n",
    "        @NLexpression(m, c12, cos(q[1,k]+q[2,k]))\n",
    "\n",
    "\n",
    "        # mass matrix calculation\n",
    "        @NLconstraint(m, D[1,1,k] == m1*Lc1^2 + m2*(L1^2 + Lc2^2 + 2*L1*Lc2*c2) + I1 + I2)\n",
    "        @NLconstraint(m, D[1,2,k] == m2*Lc2^2+ L1*Lc2*c2 + I2)\n",
    "    #     @NLexpression(m, d21, d12)\n",
    "         @NLconstraint(m, D[2,1,k] == m2*Lc2^2+ L1*Lc2*c2 + I2)\n",
    "        @NLconstraint(m, D[2,2,k] == m2*Lc2^2 + I2)\n",
    "\n",
    "        #coriolis and centrifugal terms\n",
    "        @NLexpression(m, h, -m2*L1*Lc2*s2)\n",
    "        @NLexpression(m, c111, 0)\n",
    "        @NLexpression(m, c121, h)\n",
    "        @NLexpression(m, c211, h)\n",
    "        @NLexpression(m, c221, h)\n",
    "        @NLexpression(m, c112, -h)\n",
    "        @NLexpression(m, c122, 0)\n",
    "        @NLexpression(m, c222, 0)\n",
    "        @NLconstraint(m, V[1,k] == c121*q[3,k]*q[4,k] + c211*q[4,k]*q[3,k] + c221*q[4,k]^2)\n",
    "        @NLconstraint(m, V[2,k] == c112*q[3,k]^2)\n",
    "\n",
    "        # gravity vector\n",
    "        @NLexpression(m, g1, (m1*Lc1 + m2*L1)*g*c1 + m2*Lc2*g*c12)\n",
    "        @NLexpression(m, g2, m2*Lc2*g*c12)\n",
    "        @NLconstraint(m, G[1,k] == g1)\n",
    "        @NLconstraint(m, G[2,k] == g2)\n",
    "\n",
    "        #joint viscous damping (added to bring manipulator to rest)\n",
    "        b = 0.0\n",
    "        @NLexpression(m, B[1,k] == b*q[3,k])\n",
    "        @NLexpression(m, B[2,k] == b*q[4,k])\n",
    "\n",
    "        #input torque\n",
    "        @variable(m, T[1:2,k])\n",
    "    #     @constraint(m, T[1,1]==0)\n",
    "    #     @constraint(m, T[2,1]==0)\n",
    "\n",
    "        #form joint acceleration vector \n",
    "        @variable(m, qd[1:2,k])\n",
    "    #     @NLconstraint(m, qd == D\\(-V - G - B + T))\n",
    "    #     @NLconstraint(m, D*qd[1:2] + D + V + G + B == T[:])\n",
    "        @NLconstraint(m, D[1,1,k]*qd[1,k] + D[1,2,k]*qd[2,k] + V[1,k] + G[1,k] + B[1,k] == T[1,k])\n",
    "        @NLconstraint(m, D[2,1,k]*qd[1,k] + D[2,2,k]*qd[2,k] + V[2,k] + G[2,k] + B[2,k] == T[2,k])\n",
    "#         @NLconstraint(m, D[1,1,k]*qd[1,k] + D[1,2,k]*qd[2,k] + c121*q[3,k]*q[4,k] + c211*q[4,k]*q[3,k] + c221*q[4,k]^2 + g1 + b*q[3,k] == T[1,k])\n",
    "#         @NLconstraint(m, D[2,1,k]*qd[1,k] + D[2,2,k]*qd[2,k] + c112*q[3,k]^2 + g2 + b*q[4,k] == T[2,k])\n",
    "    end\n",
    "\n",
    "# min Torque\n",
    "# @objective(m, Min, sum(T[1,:].^2 + T[2,:].^2))\n",
    "@objective(m, Min, sum(T[1,:].^2))\n",
    "#     @objective(m, Min, sum(q+dummy))\n",
    "\n",
    "status = solve(m)\n",
    "    state = getvalue(q)\n",
    "#      getvalue(T)\n",
    "    print(status, \"\\n\")\n",
    "    print(state)\n",
    "    # assign state variable derivatives\n",
    "#     zDot[1,:] = getvalue(q[3])\n",
    "#     zDot[2,:] = getvalue(q[4])\n",
    "#     zDot[3,:] = getvalue(qd[1])\n",
    "#     zDot[4,:] = getvalue(qd[2])\n",
    "    return (state)\n",
    "end\n"
   ]
  },
  {
   "cell_type": "code",
   "execution_count": 164,
   "metadata": {},
   "outputs": [
    {
     "data": {
      "image/png": "[encoded data removed]",
      "text/plain": [
       "PyPlot.Figure(PyObject <matplotlib.figure.Figure object at 0x00000000431C4B00>)"
      ]
     },
     "metadata": {},
     "output_type": "display_data"
    },
    {
     "name": "stdout",
     "output_type": "stream",
     "text": [
      "Optimal\n",
      "[0.1 0.0 0.0 0.0 0.0 0.0 0.0 0.0 0.0 0.0 0.1; 0.1 0.0 0.0 0.0 0.0 0.0 0.0 0.0 0.0 0.0 0.1; 0.1 0.0 0.0 0.0 0.0 0.0 0.0 0.0 0.0 0.0 0.1; 0.1 0.0 0.0 0.0 0.0 0.0 0.0 0.0 0.0 0.0 0.1]"
     ]
    },
    {
     "name": "stderr",
     "output_type": "stream",
     "text": [
      "\u001b[1m\u001b[33mWARNING: \u001b[39m\u001b[22m\u001b[33mA variable or constraint named T is already attached to this model. If creating variables programmatically, use the anonymous variable syntax x = @variable(m, [1:N], ...).\u001b[39m\n",
      "\u001b[1m\u001b[33mWARNING: \u001b[39m\u001b[22m\u001b[33mA variable or constraint named qd is already attached to this model. If creating variables programmatically, use the anonymous variable syntax x = @variable(m, [1:N], ...).\u001b[39m\n",
      "\u001b[1m\u001b[33mWARNING: \u001b[39m\u001b[22m\u001b[33mA variable or constraint named T is already attached to this model. If creating variables programmatically, use the anonymous variable syntax x = @variable(m, [1:N], ...).\u001b[39m\n",
      "\u001b[1m\u001b[33mWARNING: \u001b[39m\u001b[22m\u001b[33mA variable or constraint named qd is already attached to this model. If creating variables programmatically, use the anonymous variable syntax x = @variable(m, [1:N], ...).\u001b[39m\n",
      "\u001b[1m\u001b[33mWARNING: \u001b[39m\u001b[22m\u001b[33mA variable or constraint named T is already attached to this model. If creating variables programmatically, use the anonymous variable syntax x = @variable(m, [1:N], ...).\u001b[39m\n",
      "\u001b[1m\u001b[33mWARNING: \u001b[39m\u001b[22m\u001b[33mA variable or constraint named qd is already attached to this model. If creating variables programmatically, use the anonymous variable syntax x = @variable(m, [1:N], ...).\u001b[39m\n",
      "\u001b[1m\u001b[33mWARNING: \u001b[39m\u001b[22m\u001b[33mA variable or constraint named T is already attached to this model. If creating variables programmatically, use the anonymous variable syntax x = @variable(m, [1:N], ...).\u001b[39m\n",
      "\u001b[1m\u001b[33mWARNING: \u001b[39m\u001b[22m\u001b[33mA variable or constraint named qd is already attached to this model. If creating variables programmatically, use the anonymous variable syntax x = @variable(m, [1:N], ...).\u001b[39m\n",
      "\u001b[1m\u001b[33mWARNING: \u001b[39m\u001b[22m\u001b[33mA variable or constraint named T is already attached to this model. If creating variables programmatically, use the anonymous variable syntax x = @variable(m, [1:N], ...).\u001b[39m\n",
      "\u001b[1m\u001b[33mWARNING: \u001b[39m\u001b[22m\u001b[33mA variable or constraint named qd is already attached to this model. If creating variables programmatically, use the anonymous variable syntax x = @variable(m, [1:N], ...).\u001b[39m\n",
      "\u001b[1m\u001b[33mWARNING: \u001b[39m\u001b[22m\u001b[33mA variable or constraint named T is already attached to this model. If creating variables programmatically, use the anonymous variable syntax x = @variable(m, [1:N], ...).\u001b[39m\n",
      "\u001b[1m\u001b[33mWARNING: \u001b[39m\u001b[22m\u001b[33mA variable or constraint named qd is already attached to this model. If creating variables programmatically, use the anonymous variable syntax x = @variable(m, [1:N], ...).\u001b[39m\n",
      "\u001b[1m\u001b[33mWARNING: \u001b[39m\u001b[22m\u001b[33mA variable or constraint named T is already attached to this model. If creating variables programmatically, use the anonymous variable syntax x = @variable(m, [1:N], ...).\u001b[39m\n",
      "\u001b[1m\u001b[33mWARNING: \u001b[39m\u001b[22m\u001b[33mA variable or constraint named qd is already attached to this model. If creating variables programmatically, use the anonymous variable syntax x = @variable(m, [1:N], ...).\u001b[39m\n",
      "\u001b[1m\u001b[33mWARNING: \u001b[39m\u001b[22m\u001b[33mA variable or constraint named T is already attached to this model. If creating variables programmatically, use the anonymous variable syntax x = @variable(m, [1:N], ...).\u001b[39m\n",
      "\u001b[1m\u001b[33mWARNING: \u001b[39m\u001b[22m\u001b[33mA variable or constraint named qd is already attached to this model. If creating variables programmatically, use the anonymous variable syntax x = @variable(m, [1:N], ...).\u001b[39m\n",
      "\u001b[1m\u001b[33mWARNING: \u001b[39m\u001b[22m\u001b[33mA variable or constraint named T is already attached to this model. If creating variables programmatically, use the anonymous variable syntax x = @variable(m, [1:N], ...).\u001b[39m\n",
      "\u001b[1m\u001b[33mWARNING: \u001b[39m\u001b[22m\u001b[33mA variable or constraint named qd is already attached to this model. If creating variables programmatically, use the anonymous variable syntax x = @variable(m, [1:N], ...).\u001b[39m\n",
      "\u001b[1m\u001b[33mWARNING: \u001b[39m\u001b[22m\u001b[33mA variable or constraint named T is already attached to this model. If creating variables programmatically, use the anonymous variable syntax x = @variable(m, [1:N], ...).\u001b[39m\n",
      "\u001b[1m\u001b[33mWARNING: \u001b[39m\u001b[22m\u001b[33mA variable or constraint named qd is already attached to this model. If creating variables programmatically, use the anonymous variable syntax x = @variable(m, [1:N], ...).\u001b[39m\n"
     ]
    },
    {
     "data": {
      "text/plain": [
       "4-element Array{PyCall.PyObject,1}:\n",
       " PyObject <matplotlib.lines.Line2D object at 0x0000000044A669E8>\n",
       " PyObject <matplotlib.lines.Line2D object at 0x0000000044A66C18>\n",
       " PyObject <matplotlib.lines.Line2D object at 0x0000000044A6DBE0>\n",
       " PyObject <matplotlib.lines.Line2D object at 0x0000000044A6DD68>"
      ]
     },
     "execution_count": 164,
     "metadata": {},
     "output_type": "execute_result"
    }
   ],
   "source": [
    "using PyPlot\n",
    "h = 0.1\n",
    "tf = 1\n",
    "Time = 0:h:tf                   #time vector\n",
    "z = [.1; .1; .1; .1] #initial position and velocity\n",
    "state = qDDTwoLinkManipulator(z,Time)\n",
    "\n",
    "figure(figsize=(12,4)) \n",
    "plot(Time,state[1,:],Time,state[2,:],Time,state[3,:],Time,state[4,:])\n",
    "# plot(Time,torque[1,:],Time,torque[2,:])"
   ]
  },
  {
   "cell_type": "code",
   "execution_count": 59,
   "metadata": {
    "scrolled": false
   },
   "outputs": [
    {
     "name": "stdout",
     "output_type": "stream",
     "text": [
      "[0.0, 0.0, 0.0, 0.0]"
     ]
    },
    {
     "name": "stderr",
     "output_type": "stream",
     "text": [
      "\u001b[1m\u001b[33mWARNING: \u001b[39m\u001b[22m\u001b[33mIpopt finished with status Restoration_Failed\u001b[39m\n",
      "\u001b[1m\u001b[33mWARNING: \u001b[39m\u001b[22m\u001b[33mNot solved to optimality, status: Error\u001b[39m\n"
     ]
    },
    {
     "ename": "LoadError",
     "evalue": "\u001b[91mUndefVarError: zDot not defined\u001b[39m",
     "output_type": "error",
     "traceback": [
      "\u001b[91mUndefVarError: zDot not defined\u001b[39m",
      "",
      "Stacktrace:",
      " [1] \u001b[1mqDDTwoLinkManipulator\u001b[22m\u001b[22m\u001b[1m(\u001b[22m\u001b[22m::Array{Float64,1}\u001b[1m)\u001b[22m\u001b[22m at \u001b[1m.\\In[52]:84\u001b[22m\u001b[22m",
      " [2] \u001b[1mmacro expansion\u001b[22m\u001b[22m at \u001b[1m.\\In[59]:27\u001b[22m\u001b[22m [inlined]",
      " [3] \u001b[1manonymous\u001b[22m\u001b[22m at \u001b[1m.\\<missing>:?\u001b[22m\u001b[22m",
      " [4] \u001b[1minclude_string\u001b[22m\u001b[22m\u001b[1m(\u001b[22m\u001b[22m::String, ::String\u001b[1m)\u001b[22m\u001b[22m at \u001b[1m.\\loading.jl:522\u001b[22m\u001b[22m"
     ]
    }
   ],
   "source": [
    "dT = .03      #integration step size\n",
    "tend = 0.9     #simulation run time    \n",
    "numPts = floor(tend/dT)\n",
    "z = zeros(4,numPts)    #pre-allocate array memory (to improve sim. speed)\n",
    "# dq = zeros(2,numPts)\n",
    "t = zeros(1,numPts)\n",
    "T = zeros(1,numPts)\n",
    "z[:,1] = [pi/2; 0; .1; .1] #initial position and velocity\n",
    "# print(z[:,2])       \n",
    " \n",
    "# integrate equations of motion\n",
    "# integrationMethod = 3;\n",
    "for i = 1:numPts-1\n",
    "# for i = 1:2\n",
    "#     if integrationMethod == 1\n",
    "#         # Euler:\n",
    "#         qDot = qDDTwoLinkManipulator(q);\n",
    "#         q = q + dT*qDot\n",
    "#     elseif integrationMethod == 2\n",
    "#         # Improved Euler (Huen):\n",
    "#         k1 = qDDTwoLinkManipulator(q)\n",
    "#         k2 = qDDTwoLinkManipulator(q + k1*dT)\n",
    "#         q = q + 0.5*(k1 + k2)*dT\n",
    "#     elseif integrationMethod == 3\n",
    "        # Runge-Kutta 4th order\n",
    "#         print(q)\n",
    "        k1 = qDDTwoLinkManipulator(z[:,1])\n",
    "#         k2 = qDDTwoLinkManipulator(q + 0.5*k1*dT)\n",
    "#         k3 = qDDTwoLinkManipulator(q + 0.5*k2*dT)\n",
    "#         k4 = qDDTwoLinkManipulator(q + k3*dT)\n",
    "#         q = q + (1/6)*(k1 + 2*k2 + 2*k3 + k4)*dT\n",
    "#     end\n",
    "    # store joint position and velocity for rendering/plotting\n",
    "#     z[:,i+1] = q\n",
    "#     t[1,i+1] = t[1,i] + dT;        \n",
    "end"
   ]
  },
  {
   "cell_type": "code",
   "execution_count": 81,
   "metadata": {},
   "outputs": [
    {
     "data": {
      "text/plain": [
       "true"
      ]
     },
     "execution_count": 81,
     "metadata": {},
     "output_type": "execute_result"
    }
   ],
   "source": [
    "k=1\n",
    "K=1\n",
    "k==K"
   ]
  },
  {
   "cell_type": "code",
   "execution_count": null,
   "metadata": {},
   "outputs": [],
   "source": []
  },
  {
   "cell_type": "code",
   "execution_count": null,
   "metadata": {},
   "outputs": [],
   "source": []
  }
 ],
 "metadata": {
  "kernelspec": {
   "display_name": "Julia 0.6.2",
   "language": "julia",
   "name": "julia-0.6"
  },
  "language_info": {
   "file_extension": ".jl",
   "mimetype": "application/julia",
   "name": "julia",
   "version": "0.6.2"
  }
 },
 "nbformat": 4,
 "nbformat_minor": 2
}
